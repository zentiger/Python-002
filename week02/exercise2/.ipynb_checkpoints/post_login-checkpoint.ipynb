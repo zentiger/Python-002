{
 "cells": [
  {
   "cell_type": "code",
   "execution_count": 1,
   "metadata": {},
   "outputs": [],
   "source": [
    "import requests"
   ]
  },
  {
   "cell_type": "code",
   "execution_count": 50,
   "metadata": {},
   "outputs": [
    {
     "name": "stdout",
     "output_type": "stream",
     "text": [
      "{'id': 44141129, 'name': '120186766qqcom', 'name_pinyin': \"1q|'120186766q'qcom\", 'email': '120186766@qq.com', 'avatar': 'https://assets.smcdn.cn/static/unmd5/default-avatar-moke.2.png', 'status': 0, 'team': None, 'teamRole': None, 'teamTime': None, 'team_time': None, 'team_role': None, 'isSeat': 0, 'is_seat': 0, 'createdAt': '2020-08-02T09:57:02.000Z', 'merged_into': None, 'mergedInto': None, 'teamId': None, 'team_id': None, 'mobile': None, 'hasPassword': True, 'membership': {'accountType': 'personal_free', 'isOfficial': False}, 'accountMetadata': {'isExpired': False, 'isDingtalk': False, 'isWework': False, 'isEnterprise': False, 'isFreeEnterprise': False, 'expiredAt': {'seconds': 1911904565, 'nanos': 470910595}, 'isTrial': False, 'isPersonalPremium': False, 'isEnterprisePremium': False}}\n"
     ]
    }
   ],
   "source": [
    "import requests\n",
    "\n",
    "headers = {\n",
    "    \"user-agent\": \"Mozilla/5.0 (Macintosh; Intel Mac OS X 10_15_5) AppleWebKit/537.36 (KHTML, like Gecko) Chrome/83.0.4103.116 Safari/537.36\",\n",
    "    \"Accept\": \"text/html,application/xhtml+xml,application/xml;q=0.9,image/webp,image/apng,*/*\",\n",
    "    \"Accept-Encoding\": \"gzip, deflate\",\n",
    "    \"origin\": \"https://shimo.im\",\n",
    "    \"referer\": \"https://shimo.im/login?from=home\",\n",
    "    \"x-requested-with\": \"XmlHttpRequest\",\n",
    "    \"x-source\": \"lizard-desktop\"\n",
    "}\n",
    "\n",
    "url = \"https://shimo.im/lizard-api/auth/password/login\"\n",
    "data = {\n",
    "        \"email\":\"120xx@qq.com\",\n",
    "        \"mobile\": \"+86undefined\",\n",
    "        \"password\": \"TEST000\"\n",
    "       }\n",
    "\n",
    "s = requests.Session()\n",
    "r = s.post(url, headers = headers,\n",
    "      data = data)\n",
    "\n",
    "if r.ok:\n",
    "    url_myprofile = \"https://shimo.im/lizard-api/users/me\"\n",
    "    myprofile = s.get(url_myprofile, headers = headers)\n",
    "    print(myprofile.json())"
   ]
  },
  {
   "cell_type": "code",
   "execution_count": 10,
   "metadata": {},
   "outputs": [],
   "source": [
    "from selenium import webdriver\n",
    "import time"
   ]
  },
  {
   "cell_type": "code",
   "execution_count": 11,
   "metadata": {},
   "outputs": [
    {
     "name": "stdout",
     "output_type": "stream",
     "text": [
      "login_success\n"
     ]
    }
   ],
   "source": [
    "try:\n",
    "    browser = webdriver.Chrome()\n",
    "    browser.get(\"https://shimo.im\")\n",
    "    login_href = browser.find_element_by_xpath('//*[@id=\"homepage-header\"]/nav/div[3]/a[2]/button') \n",
    "    login_href.click()\n",
    "    browser.find_element_by_xpath('//input[@name=\"mobileOrEmail\"]').send_keys('120186766@qq.com')\n",
    "    browser.find_element_by_xpath('//input[@name=\"password\"]').send_keys('TEST000')\n",
    "    login_button = browser.find_element_by_xpath('//button')\n",
    "    login_button.click()\n",
    "    time.sleep(10)\n",
    "    print(\"login_success\")\n",
    "except Exception as e:\n",
    "    print(e)\n",
    "finally:\n",
    "    browser.close()"
   ]
  },
  {
   "cell_type": "code",
   "execution_count": null,
   "metadata": {},
   "outputs": [],
   "source": []
  }
 ],
 "metadata": {
  "kernelspec": {
   "display_name": "geektime",
   "language": "python",
   "name": "geektime"
  },
  "language_info": {
   "codemirror_mode": {
    "name": "ipython",
    "version": 3
   },
   "file_extension": ".py",
   "mimetype": "text/x-python",
   "name": "python",
   "nbconvert_exporter": "python",
   "pygments_lexer": "ipython3",
   "version": "3.7.3"
  }
 },
 "nbformat": 4,
 "nbformat_minor": 4
}
