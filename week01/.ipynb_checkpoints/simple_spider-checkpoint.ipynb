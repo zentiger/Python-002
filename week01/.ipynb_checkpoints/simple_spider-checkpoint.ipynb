{
 "cells": [
  {
   "cell_type": "code",
   "execution_count": 2,
   "metadata": {},
   "outputs": [],
   "source": [
    "import requests\n",
    "from bs4 import BeautifulSoup as bs"
   ]
  },
  {
   "cell_type": "code",
   "execution_count": 36,
   "metadata": {},
   "outputs": [
    {
     "name": "stdout",
     "output_type": "stream",
     "text": [
      "<div class=\"movie-hover-info\">\n",
      "<div class=\"movie-hover-title\" title=\"釜山行2：半岛\">\n",
      "<span class=\"name\">釜山行2：半岛</span>\n",
      "<span class=\"score channel-detail-orange\"><i class=\"integer\">6.</i><i class=\"fraction\">6</i></span>\n",
      "</div>\n",
      "<div class=\"movie-hover-title\" title=\"釜山行2：半岛\">\n",
      "<span class=\"hover-tag\">类型:</span>\n",
      "              动作／惊悚\n",
      "            </div>\n",
      "<div class=\"movie-hover-title\" title=\"釜山行2：半岛\">\n",
      "<span class=\"hover-tag\">主演:</span>\n",
      "              姜栋元／李贞贤／权海孝\n",
      "            </div>\n",
      "<div class=\"movie-hover-title movie-hover-brief\" title=\"釜山行2：半岛\">\n",
      "<span class=\"hover-tag\">上映时间:</span>\n",
      "              2020-08-12\n",
      "            </div>\n",
      "</div>\n",
      "电影名称：\"釜山行2：半岛\"\n"
     ]
    }
   ],
   "source": [
    "url = \"https://maoyan.com/films?showType=3\"\n",
    "headers = {\n",
    "    \"user-agent\": \"Mozilla/5.0 (Macintosh; Intel Mac OS X 10_15_5) AppleWebKit/537.36 (KHTML, like Gecko) Chrome/83.0.4103.116 Safari/537.36\",\n",
    "    \"Accept\": \"text/html,application/xhtml+xml,application/xml;q=0.9,image/webp,image/apng,*/*\",\n",
    "    \"Accept-Encoding\": \"gzip, deflate\",\n",
    "    \"Dnt\": \"1\",\n",
    "    \"Upgrade-Insecure-Requests\": \"1\",\n",
    "    \"Cookie\": 'uuid_n_v=v1; uuid=D3F3ABB0CCFF11EAB0594FFAA70EE9CE992E7740FAFC4FA3AC3E78578E17132B; _csrf=4b94dc7d886b67d5d98ac3cd92ae54756deb0929701149927efbd4feb072ce4e; _lxsdk_cuid=1737c75fe2cc8-065a78fe4d7979-31617402-232800-1737c75fe2cc8; _lxsdk=D3F3ABB0CCFF11EAB0594FFAA70EE9CE992E7740FAFC4FA3AC3E78578E17132B; mojo-uuid=7137f97ef2cc97290d1dc1d484a19007; mojo-session-id={\"id\":\"f1a20cfcc9425b43f41e2246ae214dd8\",\"time\":1595520975197}; Hm_lvt_703e94591e87be68cc8da0da7cbd0be2=1595520975,1595520988; mojo-trace-id=12; Hm_lpvt_703e94591e87be68cc8da0da7cbd0be2=1595521026; __mta=146519947.1595520975189.1595521015332.1595521026460.8; _lxsdk_s=1737c75fe2d-9f-ab2-76c%7C%7C21'\n",
    "}\n",
    "\n",
    "r = requests.get(url, headers=headers)\n",
    "if not r.ok:\n",
    "    exit(1)\n",
    "bs_info = bs(r.text, 'html.parser')\n",
    "count = 0 \n",
    "for movie_info in bs_info.find_all('div', attrs={\"class\":\"movie-hover-info\"}):\n",
    "    print(movie_info)\n",
    "    movie_name = movie_info.find_all('span', attrs={\"class\":\"name\"})[0].text\n",
    "    print(f'电影名称：\"{movie_name}\"')\n",
    "    count += 1\n",
    "    if count >= 1:\n",
    "        break"
   ]
  },
  {
   "cell_type": "code",
   "execution_count": null,
   "metadata": {},
   "outputs": [],
   "source": []
  }
 ],
 "metadata": {
  "kernelspec": {
   "display_name": "geektime",
   "language": "python",
   "name": "geektime"
  },
  "language_info": {
   "codemirror_mode": {
    "name": "ipython",
    "version": 3
   },
   "file_extension": ".py",
   "mimetype": "text/x-python",
   "name": "python",
   "nbconvert_exporter": "python",
   "pygments_lexer": "ipython3",
   "version": "3.7.3"
  }
 },
 "nbformat": 4,
 "nbformat_minor": 4
}
