{
 "cells": [
  {
   "cell_type": "code",
   "execution_count": 68,
   "metadata": {},
   "outputs": [],
   "source": [
    "import requests\n",
    "from bs4 import BeautifulSoup as bs\n",
    "import pandas as pd"
   ]
  },
  {
   "cell_type": "code",
   "execution_count": 72,
   "metadata": {},
   "outputs": [
    {
     "name": "stdout",
     "output_type": "stream",
     "text": [
      "  movie_name   movie_type movie_showtime\n",
      "0    釜山行2：半岛        动作／惊悚     2020-08-12\n",
      "1     唐人街探案2     喜剧／动作／悬疑     2018-02-16\n",
      "2       天气之子     爱情／动画／奇幻     2019-11-01\n",
      "3     第一次的离别        剧情／家庭     2020-07-20\n",
      "4         误杀        剧情／犯罪     2020-07-20\n",
      "5        釜山行     动作／惊悚／灾难     2016-05-13\n",
      "6    我在世界城等你           短片     2016-05-16\n",
      "7       少年的你     爱情／青春／剧情     2019-10-25\n",
      "8      寻梦环游记     动画／冒险／家庭     2020-07-20\n",
      "9  大话西游之大圣娶亲  喜剧／爱情／奇幻／古装     2020-07-24\n"
     ]
    }
   ],
   "source": [
    "url = \"https://maoyan.com/films?showType=3\"\n",
    "headers = {\n",
    "    \"user-agent\": \"Mozilla/5.0 (Macintosh; Intel Mac OS X 10_15_5) AppleWebKit/537.36 (KHTML, like Gecko) Chrome/83.0.4103.116 Safari/537.36\",\n",
    "    \"Accept\": \"text/html,application/xhtml+xml,application/xml;q=0.9,image/webp,image/apng,*/*\",\n",
    "    \"Accept-Encoding\": \"gzip, deflate\",\n",
    "    \"Dnt\": \"1\",\n",
    "    \"Upgrade-Insecure-Requests\": \"1\",\n",
    "    \"Cookie\": 'uuid_n_v=v1; uuid=D3F3ABB0CCFF11EAB0594FFAA70EE9CE992E7740FAFC4FA3AC3E78578E17132B; _csrf=4b94dc7d886b67d5d98ac3cd92ae54756deb0929701149927efbd4feb072ce4e; _lxsdk_cuid=1737c75fe2cc8-065a78fe4d7979-31617402-232800-1737c75fe2cc8; _lxsdk=D3F3ABB0CCFF11EAB0594FFAA70EE9CE992E7740FAFC4FA3AC3E78578E17132B; mojo-uuid=7137f97ef2cc97290d1dc1d484a19007; mojo-session-id={\"id\":\"f1a20cfcc9425b43f41e2246ae214dd8\",\"time\":1595520975197}; Hm_lvt_703e94591e87be68cc8da0da7cbd0be2=1595520975,1595520988; mojo-trace-id=12; Hm_lpvt_703e94591e87be68cc8da0da7cbd0be2=1595521026; __mta=146519947.1595520975189.1595521015332.1595521026460.8; _lxsdk_s=1737c75fe2d-9f-ab2-76c%7C%7C21'\n",
    "}\n",
    "\n",
    "movie_data = {\"movie_name\":[], \"movie_type\": [], \"movie_showtime\": [] }\n",
    "r = requests.get(url, headers=headers)\n",
    "if not r.ok:\n",
    "    exit(1)\n",
    "bs_info = bs(r.text, 'html.parser')\n",
    "count = 0 \n",
    "for movie_info in bs_info.find_all('div', attrs={\"class\":\"movie-hover-info\"}):\n",
    "    divs = movie_info.find_all('div', attrs={\"class\":\"movie-hover-title\"})\n",
    "    movie_name = divs[0].find('span', attrs={\"class\":\"name\"}).text.strip()\n",
    "    movie_type = divs[1].text.strip().split()[1]\n",
    "    movie_showtime = divs[3].text.strip().split()[1]\n",
    "    movie_data[\"movie_name\"].append(movie_name)\n",
    "    movie_data[\"movie_type\"].append(movie_type)\n",
    "    movie_data[\"movie_showtime\"].append(movie_showtime)\n",
    "\n",
    "    count += 1 \n",
    "    if count >= 10:\n",
    "        break\n",
    "        \n",
    "df = pd.DataFrame(data=movie_data)\n",
    "print(df.head(10))\n",
    "df.to_csv('maoyan_movies.csv')"
   ]
  },
  {
   "cell_type": "code",
   "execution_count": null,
   "metadata": {},
   "outputs": [],
   "source": []
  }
 ],
 "metadata": {
  "kernelspec": {
   "display_name": "geektime",
   "language": "python",
   "name": "geektime"
  },
  "language_info": {
   "codemirror_mode": {
    "name": "ipython",
    "version": 3
   },
   "file_extension": ".py",
   "mimetype": "text/x-python",
   "name": "python",
   "nbconvert_exporter": "python",
   "pygments_lexer": "ipython3",
   "version": "3.7.3"
  }
 },
 "nbformat": 4,
 "nbformat_minor": 4
}
