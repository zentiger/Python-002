{
 "cells": [
  {
   "cell_type": "code",
   "execution_count": 1,
   "metadata": {},
   "outputs": [],
   "source": [
    "class Human(object):\n",
    "    Live = True\n",
    "    \n",
    "    def __init__():\n",
    "        pass\n",
    "    \n",
    "class Man(Human):\n",
    "    def __init__(self,name):\n",
    "        self.name = \"adm\"\n",
    "        self._age = 10\n",
    "        self.__time = 'now'\n",
    "        \n",
    "    def test_func(self):\n",
    "        print(f'func test')\n",
    "        \n",
    "class Woman(Human):\n",
    "    def __init__(self, name):\n",
    "        self.name = \"eve\""
   ]
  },
  {
   "cell_type": "code",
   "execution_count": 2,
   "metadata": {},
   "outputs": [
    {
     "data": {
      "text/plain": [
       "mappingproxy({'__module__': '__main__',\n",
       "              '__init__': <function __main__.Man.__init__(self, name)>,\n",
       "              'test_func': <function __main__.Man.test_func(self)>,\n",
       "              '__doc__': None})"
      ]
     },
     "execution_count": 2,
     "metadata": {},
     "output_type": "execute_result"
    }
   ],
   "source": [
    "Man.__dict__"
   ]
  },
  {
   "cell_type": "code",
   "execution_count": 4,
   "metadata": {},
   "outputs": [
    {
     "data": {
      "text/plain": [
       "{'name': 'adm', '_age': 10, '_Man__time': 'now'}"
      ]
     },
     "execution_count": 4,
     "metadata": {},
     "output_type": "execute_result"
    }
   ],
   "source": [
    "man = Man('adm')\n",
    "man.__dict__"
   ]
  },
  {
   "cell_type": "code",
   "execution_count": 7,
   "metadata": {},
   "outputs": [
    {
     "name": "stdout",
     "output_type": "stream",
     "text": [
      "<class 'method'>\n",
      "<class 'function'>\n",
      "<class 'function'>\n"
     ]
    }
   ],
   "source": [
    "print(type(man.test_func))\n",
    "print(type(Man.test_func))\n",
    "print(type(Man.__dict__[\"test_func\"]))"
   ]
  },
  {
   "cell_type": "code",
   "execution_count": 11,
   "metadata": {},
   "outputs": [
    {
     "data": {
      "text/plain": [
       "<bound method Man.test_func of <__main__.Man object at 0x7fdfe08508d0>>"
      ]
     },
     "execution_count": 11,
     "metadata": {},
     "output_type": "execute_result"
    }
   ],
   "source": [
    "Man.__dict__[\"test_func\"]\n",
    "Man.test_func\n",
    "man.test_func"
   ]
  },
  {
   "cell_type": "code",
   "execution_count": 15,
   "metadata": {},
   "outputs": [
    {
     "data": {
      "text/plain": [
       "<bound method Man.test_func of <__main__.Man object at 0x7fdfe08508d0>>"
      ]
     },
     "execution_count": 15,
     "metadata": {},
     "output_type": "execute_result"
    }
   ],
   "source": [
    "f = Man.__dict__['test_func']\n",
    "f.__get__(man,Man)"
   ]
  },
  {
   "cell_type": "code",
   "execution_count": 43,
   "metadata": {},
   "outputs": [
    {
     "data": {
      "text/plain": [
       "True"
      ]
     },
     "execution_count": 43,
     "metadata": {},
     "output_type": "execute_result"
    }
   ],
   "source": [
    "class Shape(object):\n",
    "    def __init__(self):\n",
    "        pass\n",
    "    def draw(self):\n",
    "        pass\n",
    "    \n",
    "class Triangle(Shape):\n",
    "    def __init__(self):\n",
    "        print('init triangle')\n",
    "    def draw(self):\n",
    "        print(f'{self.name} is a triangle')\n",
    "        \n",
    "class Circle(Shape):\n",
    "    def __init__(self):\n",
    "        print('init circle')\n",
    "        \n",
    "    def draw(self):\n",
    "        print(f'{self.name} is circle')\n",
    "        \n",
    "class ShapeFactory(object):\n",
    "    shapes = {\"Triangle\": Triangle, 'Circle': Circle }\n",
    "    def __new__(klass,name):\n",
    "        print(klass)\n",
    "        if name in ShapeFactory.shapes.keys():\n",
    "            print(f'create  a new shape: {name}')\n",
    "            return ShapeFactory.shapes[name]()\n",
    "        else:\n",
    "            print(f'create a new shape: {name}')\n",
    "            return Shape()\n",
    "        \n",
    "            \n",
    "        "
   ]
  }
 ],
 "metadata": {
  "kernelspec": {
   "display_name": "Python 3",
   "language": "python",
   "name": "python3"
  },
  "language_info": {
   "codemirror_mode": {
    "name": "ipython",
    "version": 3
   },
   "file_extension": ".py",
   "mimetype": "text/x-python",
   "name": "python",
   "nbconvert_exporter": "python",
   "pygments_lexer": "ipython3",
   "version": "3.7.3"
  }
 },
 "nbformat": 4,
 "nbformat_minor": 4
}
