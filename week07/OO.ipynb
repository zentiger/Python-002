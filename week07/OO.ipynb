{
 "cells": [
  {
   "cell_type": "code",
   "execution_count": 61,
   "metadata": {},
   "outputs": [],
   "source": [
    "import abc\n",
    "\n",
    "class Animal(metaclass=abc.ABCMeta):\n",
    "    def __init__(self, name, category, size, temper ):\n",
    "        self.name = name \n",
    "        self.category = category\n",
    "        self.size = size\n",
    "        self.temper = temper \n",
    "        self.dangerous = False\n",
    "        if self.category == \"食肉\" and self.size in [\"中\", \"大\"] and self.temper == \"凶猛\":\n",
    "            self.dangerour = True\n",
    "    \n",
    "class Cat(Animal):\n",
    "    bark = f\"Miao ~\"\n",
    "    def __init__(self, name, category, size, temper):\n",
    "        self.pet = True\n",
    "        super().__init__(name, category, size, temper)\n",
    "\n",
    "class Dog(Animal):\n",
    "    \n",
    "    pass \n",
    "\n",
    "class Zoo(object):\n",
    "    def __init__(self,name):\n",
    "        self.name = name \n",
    "        self.animals = []\n",
    "        \n",
    "    def __getattr__(self,attr):\n",
    "        self.__setattr__(attr,True)\n",
    "        return self.__dict__[attr]\n",
    "        \n",
    "    def add_animal(self, animal):\n",
    "        if id(animal) in self.animals:\n",
    "            print(f\"{animal.__class__.__name__}:\\\"{animal.name}\\\" is alreay in Zoo:\\\"{self.name}\\\"\")\n",
    "            return None\n",
    "        \n",
    "        self.animals.append(id(animal))\n",
    "        animal_type = animal.__class__.__name__\n",
    "        hasattr(self,animal_type)"
   ]
  },
  {
   "cell_type": "code",
   "execution_count": 67,
   "metadata": {},
   "outputs": [],
   "source": [
    "cat = Cat('大花猫 1', '食肉', '小', '温顺')\n",
    "dog = Dog('土狗', '食肉', '中', '温顺')"
   ]
  },
  {
   "cell_type": "code",
   "execution_count": 87,
   "metadata": {},
   "outputs": [],
   "source": [
    "class kitty(Cat):\n",
    "    pass"
   ]
  },
  {
   "cell_type": "code",
   "execution_count": 89,
   "metadata": {},
   "outputs": [],
   "source": [
    "k = kitty('1','2','3','4')"
   ]
  },
  {
   "cell_type": "code",
   "execution_count": 91,
   "metadata": {},
   "outputs": [
    {
     "data": {
      "text/plain": [
       "(__main__.Cat,)"
      ]
     },
     "execution_count": 91,
     "metadata": {},
     "output_type": "execute_result"
    }
   ],
   "source": [
    "k.__class__.__bases__"
   ]
  },
  {
   "cell_type": "code",
   "execution_count": 62,
   "metadata": {},
   "outputs": [
    {
     "name": "stdout",
     "output_type": "stream",
     "text": [
      "<class '__main__.Cat'>\n"
     ]
    }
   ],
   "source": [
    "z = Zoo('时间动物园')\n",
    "# 实例化一只猫，属性包括名字、类型、体型、性格\n",
    "cat1 = Cat('大花猫 1', '食肉', '小', '温顺')\n",
    "# 增加一只猫到动物园\n",
    "z.add_animal(cat1)\n",
    "# 动物园是否有猫这种动物\n",
    "have_cat = hasattr(z, 'Cat')"
   ]
  },
  {
   "cell_type": "code",
   "execution_count": null,
   "metadata": {},
   "outputs": [],
   "source": []
  },
  {
   "cell_type": "code",
   "execution_count": 66,
   "metadata": {},
   "outputs": [
    {
     "data": {
      "text/plain": [
       "{'name': '时间动物园', 'animals': [4414538608], 'Cat': True}"
      ]
     },
     "execution_count": 66,
     "metadata": {},
     "output_type": "execute_result"
    }
   ],
   "source": [
    "z.__dict__"
   ]
  },
  {
   "cell_type": "code",
   "execution_count": null,
   "metadata": {},
   "outputs": [],
   "source": []
  }
 ],
 "metadata": {
  "kernelspec": {
   "display_name": "Python 3",
   "language": "python",
   "name": "python3"
  },
  "language_info": {
   "codemirror_mode": {
    "name": "ipython",
    "version": 3
   },
   "file_extension": ".py",
   "mimetype": "text/x-python",
   "name": "python",
   "nbconvert_exporter": "python",
   "pygments_lexer": "ipython3",
   "version": "3.8.5"
  }
 },
 "nbformat": 4,
 "nbformat_minor": 4
}
